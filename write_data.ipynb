{
 "cells": [
  {
   "cell_type": "code",
   "execution_count": 1,
   "metadata": {},
   "outputs": [
    {
     "name": "stderr",
     "output_type": "stream",
     "text": [
      "/home/gufonet/anaconda3/envs/LLM/lib/python3.10/site-packages/tqdm/auto.py:21: TqdmWarning: IProgress not found. Please update jupyter and ipywidgets. See https://ipywidgets.readthedocs.io/en/stable/user_install.html\n",
      "  from .autonotebook import tqdm as notebook_tqdm\n",
      "Downloading readme: 100%|██████████| 13.1k/13.1k [00:00<00:00, 5.33MB/s]\n"
     ]
    },
    {
     "name": "stdout",
     "output_type": "stream",
     "text": [
      "Downloading and preparing dataset None/None to /home/gufonet/.cache/huggingface/datasets/yentinglin___parquet/yentinglin--zh_TW_c4-fdd000b783c91f23/0.0.0/2a3b91fbd88a2c90d1dbbb32b460cf621d31bd5b05b934492fdef7d8d6f236ec...\n"
     ]
    },
    {
     "name": "stderr",
     "output_type": "stream",
     "text": [
      "Downloading data: 100%|██████████| 179M/179M [00:16<00:00, 10.7MB/s]\n",
      "Downloading data: 100%|██████████| 179M/179M [00:16<00:00, 10.5MB/s]\n",
      "Downloading data: 100%|██████████| 180M/180M [00:16<00:00, 10.7MB/s]\n",
      "Downloading data: 100%|██████████| 180M/180M [00:17<00:00, 10.5MB/s]\n",
      "Downloading data: 100%|██████████| 179M/179M [00:16<00:00, 10.7MB/s]\n",
      "Downloading data: 100%|██████████| 180M/180M [00:16<00:00, 10.8MB/s]\n",
      "Downloading data: 100%|██████████| 179M/179M [00:16<00:00, 10.7MB/s]\n",
      "Downloading data: 100%|██████████| 180M/180M [00:17<00:00, 10.5MB/s]\n",
      "Downloading data: 100%|██████████| 179M/179M [00:16<00:00, 10.7MB/s]\n",
      "Downloading data: 100%|██████████| 179M/179M [00:17<00:00, 10.0MB/s]\n",
      "Downloading data: 100%|██████████| 180M/180M [00:17<00:00, 10.4MB/s]\n",
      "Downloading data: 100%|██████████| 179M/179M [00:16<00:00, 10.7MB/s]\n",
      "Downloading data: 100%|██████████| 179M/179M [00:16<00:00, 10.6MB/s]\n",
      "Downloading data: 100%|██████████| 179M/179M [00:16<00:00, 10.8MB/s]\n",
      "Downloading data: 100%|██████████| 180M/180M [00:16<00:00, 10.8MB/s]\n",
      "Downloading data: 100%|██████████| 179M/179M [00:20<00:00, 8.59MB/s]\n",
      "Downloading data: 100%|██████████| 180M/180M [00:16<00:00, 10.8MB/s]\n",
      "Downloading data: 100%|██████████| 179M/179M [00:16<00:00, 10.8MB/s]\n",
      "Downloading data: 100%|██████████| 180M/180M [00:16<00:00, 10.9MB/s]\n",
      "Downloading data: 100%|██████████| 179M/179M [00:24<00:00, 7.21MB/s]\n",
      "Downloading data: 100%|██████████| 179M/179M [00:16<00:00, 10.9MB/s]\n",
      "Downloading data: 100%|██████████| 179M/179M [00:16<00:00, 10.6MB/s]\n",
      "Downloading data: 100%|██████████| 180M/180M [00:16<00:00, 10.9MB/s]\n",
      "Downloading data: 100%|██████████| 180M/180M [00:16<00:00, 10.9MB/s]\n",
      "Downloading data: 100%|██████████| 180M/180M [00:16<00:00, 10.9MB/s]\n",
      "Downloading data: 100%|██████████| 180M/180M [00:16<00:00, 10.9MB/s]\n",
      "Downloading data: 100%|██████████| 180M/180M [00:27<00:00, 6.63MB/s]\n",
      "Downloading data: 100%|██████████| 180M/180M [00:17<00:00, 10.0MB/s]\n",
      "Downloading data: 100%|██████████| 179M/179M [00:16<00:00, 10.7MB/s]\n",
      "Downloading data: 100%|██████████| 181M/181M [00:17<00:00, 10.5MB/s]\n",
      "Downloading data: 100%|██████████| 180M/180M [00:16<00:00, 10.7MB/s]\n",
      "Downloading data: 100%|██████████| 5.36M/5.36M [00:01<00:00, 3.79MB/s]\n",
      "Downloading data files: 100%|██████████| 2/2 [10:15<00:00, 307.57s/it]\n",
      "Extracting data files: 100%|██████████| 2/2 [00:00<00:00, 149.23it/s]\n",
      "                                                                                            \r"
     ]
    },
    {
     "name": "stdout",
     "output_type": "stream",
     "text": [
      "Dataset parquet downloaded and prepared to /home/gufonet/.cache/huggingface/datasets/yentinglin___parquet/yentinglin--zh_TW_c4-fdd000b783c91f23/0.0.0/2a3b91fbd88a2c90d1dbbb32b460cf621d31bd5b05b934492fdef7d8d6f236ec. Subsequent calls will reuse this data.\n"
     ]
    },
    {
     "name": "stderr",
     "output_type": "stream",
     "text": [
      "100%|██████████| 2/2 [00:00<00:00, 11.44it/s]\n"
     ]
    }
   ],
   "source": [
    "from datasets import load_dataset\n",
    "dataset = load_dataset('yentinglin/zh_TW_c4')"
   ]
  },
  {
   "cell_type": "code",
   "execution_count": 5,
   "metadata": {},
   "outputs": [
    {
     "name": "stdout",
     "output_type": "stream",
     "text": [
      "DatasetDict({\n",
      "    train: Dataset({\n",
      "        features: ['text', 'timestamp', 'url', 'zh_id'],\n",
      "        num_rows: 5179546\n",
      "    })\n",
      "    validation: Dataset({\n",
      "        features: ['text', 'timestamp', 'url', 'zh_id'],\n",
      "        num_rows: 5099\n",
      "    })\n",
      "})\n"
     ]
    }
   ],
   "source": [
    "print(dataset)"
   ]
  },
  {
   "cell_type": "code",
   "execution_count": 6,
   "metadata": {},
   "outputs": [
    {
     "data": {
      "text/plain": [
       "Dataset({\n",
       "    features: ['text', 'timestamp', 'url', 'zh_id'],\n",
       "    num_rows: 5179546\n",
       "})"
      ]
     },
     "execution_count": 6,
     "metadata": {},
     "output_type": "execute_result"
    }
   ],
   "source": [
    "dataset[\"train\"]"
   ]
  },
  {
   "cell_type": "code",
   "execution_count": 7,
   "metadata": {},
   "outputs": [],
   "source": [
    "import pandas as pd\n",
    "df_pandas = pd.DataFrame(dataset[\"train\"])"
   ]
  },
  {
   "cell_type": "code",
   "execution_count": 8,
   "metadata": {},
   "outputs": [
    {
     "data": {
      "text/plain": [
       "Index(['text', 'timestamp', 'url', 'zh_id'], dtype='object')"
      ]
     },
     "execution_count": 8,
     "metadata": {},
     "output_type": "execute_result"
    }
   ],
   "source": [
    "df_pandas.columns"
   ]
  },
  {
   "cell_type": "code",
   "execution_count": 9,
   "metadata": {},
   "outputs": [
    {
     "data": {
      "text/plain": [
       "5179546"
      ]
     },
     "execution_count": 9,
     "metadata": {},
     "output_type": "execute_result"
    }
   ],
   "source": [
    "len(df_pandas)"
   ]
  },
  {
   "cell_type": "code",
   "execution_count": null,
   "metadata": {},
   "outputs": [],
   "source": [
    "with open('readme.txt', 'w') as f:\n",
    "    for text in df_pandas[\"text\"]:\n",
    "        f.write(text)"
   ]
  }
 ],
 "metadata": {
  "kernelspec": {
   "display_name": "LLM",
   "language": "python",
   "name": "python3"
  },
  "language_info": {
   "codemirror_mode": {
    "name": "ipython",
    "version": 3
   },
   "file_extension": ".py",
   "mimetype": "text/x-python",
   "name": "python",
   "nbconvert_exporter": "python",
   "pygments_lexer": "ipython3",
   "version": "3.10.11"
  },
  "orig_nbformat": 4
 },
 "nbformat": 4,
 "nbformat_minor": 2
}
